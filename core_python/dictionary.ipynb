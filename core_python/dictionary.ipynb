{
  "nbformat": 4,
  "nbformat_minor": 0,
  "metadata": {
    "colab": {
      "provenance": [],
      "authorship_tag": "ABX9TyPTsQnYQEqCza/pcL0n6qn/",
      "include_colab_link": true
    },
    "kernelspec": {
      "name": "python3",
      "display_name": "Python 3"
    },
    "language_info": {
      "name": "python"
    }
  },
  "cells": [
    {
      "cell_type": "markdown",
      "metadata": {
        "id": "view-in-github",
        "colab_type": "text"
      },
      "source": [
        "<a href=\"https://colab.research.google.com/github/Praveenrpw/AI_ModelLab/blob/main/core_python/dictionary.ipynb\" target=\"_parent\"><img src=\"https://colab.research.google.com/assets/colab-badge.svg\" alt=\"Open In Colab\"/></a>"
      ]
    },
    {
      "cell_type": "code",
      "execution_count": null,
      "metadata": {
        "id": "5_5bpAhG1qJg"
      },
      "outputs": [],
      "source": []
    },
    {
      "cell_type": "code",
      "source": [],
      "metadata": {
        "id": "xI0muZGO2EpY"
      },
      "execution_count": null,
      "outputs": []
    },
    {
      "cell_type": "code",
      "source": [],
      "metadata": {
        "id": "hXN7ZsOq2Evm"
      },
      "execution_count": null,
      "outputs": []
    },
    {
      "cell_type": "markdown",
      "source": [
        "A Dictionary is an unordered collection of items stored as key-value pairs\n",
        "\n",
        "Each key must be unique and immutable (string, numbers, or tuples), while values can be of any data type"
      ],
      "metadata": {
        "id": "C2Msb3Ep2iPU"
      }
    },
    {
      "cell_type": "code",
      "source": [
        "# 1. Creating a dict\n",
        "# create a dictionary using curly braces {} or the dict() function.\n",
        "\n",
        "my_dict = {\n",
        "    'name': 'John',\n",
        "    'age' : 30,\n",
        "    'city': 'new york'\n",
        "}\n",
        "\n",
        "my_dict"
      ],
      "metadata": {
        "colab": {
          "base_uri": "https://localhost:8080/"
        },
        "id": "gdHHyFNF2x6d",
        "outputId": "a31b5075-6c95-4045-aba5-437f3067f0f1"
      },
      "execution_count": null,
      "outputs": [
        {
          "output_type": "execute_result",
          "data": {
            "text/plain": [
              "{'name': 'John', 'age': 30, 'city': 'new york'}"
            ]
          },
          "metadata": {},
          "execution_count": 1
        }
      ]
    },
    {
      "cell_type": "code",
      "source": [
        "# or\n",
        "\n",
        "my_dict = dict(name = 'john', age = 30, city = 'new york')\n",
        "my_dict"
      ],
      "metadata": {
        "colab": {
          "base_uri": "https://localhost:8080/"
        },
        "id": "r3WgSLoO3KS6",
        "outputId": "746f64ee-7d1e-44dd-e1f4-932755438d74"
      },
      "execution_count": null,
      "outputs": [
        {
          "output_type": "execute_result",
          "data": {
            "text/plain": [
              "{'name': 'john', 'age': 30, 'city': 'new york'}"
            ]
          },
          "metadata": {},
          "execution_count": 2
        }
      ]
    },
    {
      "cell_type": "code",
      "source": [
        "# 2. Accessing Values\n",
        "# can access values by referring their key\n",
        "\n",
        "my_dict = {\n",
        "    'name': 'John',\n",
        "    'age' : 30,\n",
        "    'city': 'new york'\n",
        "}\n",
        "\n",
        "my_dict['name']"
      ],
      "metadata": {
        "colab": {
          "base_uri": "https://localhost:8080/",
          "height": 36
        },
        "id": "YDKQXgYt3ahP",
        "outputId": "8c67da52-357b-47e9-a38e-065e0b624334"
      },
      "execution_count": null,
      "outputs": [
        {
          "output_type": "execute_result",
          "data": {
            "text/plain": [
              "'John'"
            ],
            "application/vnd.google.colaboratory.intrinsic+json": {
              "type": "string"
            }
          },
          "metadata": {},
          "execution_count": 3
        }
      ]
    },
    {
      "cell_type": "code",
      "source": [
        "# 3. adding or updating values\n",
        "# you can add new key-value pairs or update the existing one\n",
        "\n",
        "my_dict = {\n",
        "    'name': 'John',\n",
        "    'age' : 30,\n",
        "    'city': 'new york'\n",
        "}\n",
        "\n",
        "my_dict['email'] = 'iam@example.com'\n",
        "print(my_dict)\n",
        "\n",
        "print()\n",
        "\n",
        "my_dict['age'] = 31\n",
        "print('Updated on age from 30 to 31', my_dict)"
      ],
      "metadata": {
        "colab": {
          "base_uri": "https://localhost:8080/"
        },
        "id": "9OnMfCgw4KET",
        "outputId": "f7dab154-70f7-46f2-b75c-dba34e167042"
      },
      "execution_count": null,
      "outputs": [
        {
          "output_type": "stream",
          "name": "stdout",
          "text": [
            "{'name': 'John', 'age': 30, 'city': 'new york', 'email': 'iam@example.com'}\n",
            "\n",
            "Updated on age from 30 to 31 {'name': 'John', 'age': 31, 'city': 'new york', 'email': 'iam@example.com'}\n"
          ]
        }
      ]
    },
    {
      "cell_type": "code",
      "source": [
        "# 4. deleting items\n",
        "\n",
        "my_dict = {\n",
        "    'name': 'John',\n",
        "    'age' : 30,\n",
        "    'city': 'new york'\n",
        "}\n",
        "\n",
        "del my_dict['city']\n",
        "print(my_dict)"
      ],
      "metadata": {
        "colab": {
          "base_uri": "https://localhost:8080/"
        },
        "id": "nIYDbwuA4dvW",
        "outputId": "a0d8b6fc-0176-4a0e-c3e2-7d7bf68462f3"
      },
      "execution_count": null,
      "outputs": [
        {
          "output_type": "stream",
          "name": "stdout",
          "text": [
            "{'name': 'John', 'age': 30}\n"
          ]
        }
      ]
    },
    {
      "cell_type": "code",
      "source": [
        "# using pop, removes 'age' and returns its value\n",
        "\n",
        "my_dict = {\n",
        "    'name': 'John',\n",
        "    'age' : 30,\n",
        "    'city': 'new york'\n",
        "}\n",
        "\n",
        "a = my_dict.pop('age')\n",
        "print(a)\n",
        "print(my_dict)"
      ],
      "metadata": {
        "colab": {
          "base_uri": "https://localhost:8080/"
        },
        "id": "IF41MYwZ44EE",
        "outputId": "70537556-2e8b-4d7e-8089-55d9f8bd1367"
      },
      "execution_count": null,
      "outputs": [
        {
          "output_type": "stream",
          "name": "stdout",
          "text": [
            "30\n",
            "{'name': 'John', 'city': 'new york'}\n"
          ]
        }
      ]
    },
    {
      "cell_type": "code",
      "source": [
        "# 5. checking for keys\n",
        "# use the in keyword to check if a key exists in the dictionary\n",
        "\n",
        "my_dict = {\n",
        "    'name': 'John',\n",
        "    'age' : 30,\n",
        "    'city': 'new york'\n",
        "}\n",
        "\n",
        "if 'name' in my_dict:\n",
        "  print('Name exists in the dictionary')"
      ],
      "metadata": {
        "colab": {
          "base_uri": "https://localhost:8080/"
        },
        "id": "X7SA1Tc85APh",
        "outputId": "d4911138-e5df-4c25-bb64-e087f31c68ec"
      },
      "execution_count": null,
      "outputs": [
        {
          "output_type": "stream",
          "name": "stdout",
          "text": [
            "Name exists in the dictionary\n"
          ]
        }
      ]
    },
    {
      "cell_type": "code",
      "source": [
        "# 6. iterating through a dictionary\n",
        "# you can iterate through keys, values or key-value pairs\n",
        "\n",
        "my_dict = {\n",
        "    'name': 'John',\n",
        "    'age' : 30,\n",
        "    'city': 'new york'\n",
        "}\n",
        "\n",
        "for key in my_dict:\n",
        "  print('Iterating only keys: ',key)\n",
        "print()\n",
        "\n",
        "for value in my_dict.values():\n",
        "  print('Iterating only values: ', value)\n",
        "print()\n",
        "\n",
        "for key, value in my_dict.items():\n",
        "  print('Iterating on both k,v: ', key, value)"
      ],
      "metadata": {
        "colab": {
          "base_uri": "https://localhost:8080/"
        },
        "id": "KuB62z9C5zkJ",
        "outputId": "4fec010f-52e8-4be1-da09-677d6f36c7f5"
      },
      "execution_count": null,
      "outputs": [
        {
          "output_type": "stream",
          "name": "stdout",
          "text": [
            "Iterating only keys:  name\n",
            "Iterating only keys:  age\n",
            "Iterating only keys:  city\n",
            "\n",
            "Iterating only values:  John\n",
            "Iterating only values:  30\n",
            "Iterating only values:  new york\n",
            "\n",
            "Iterating on both k,v:  name John\n",
            "Iterating on both k,v:  age 30\n",
            "Iterating on both k,v:  city new york\n"
          ]
        }
      ]
    },
    {
      "cell_type": "code",
      "source": [
        "# 7. dictionary comprehension\n",
        "# you can create dictionaries using comprehensions for concise\n",
        "\n",
        "squares = {x: x**2 for x in range(5)}\n",
        "squares"
      ],
      "metadata": {
        "colab": {
          "base_uri": "https://localhost:8080/"
        },
        "id": "N1RMQqAx6Ov4",
        "outputId": "0884a6e4-466e-4831-c289-1ac7360bf4aa"
      },
      "execution_count": null,
      "outputs": [
        {
          "output_type": "execute_result",
          "data": {
            "text/plain": [
              "{0: 0, 1: 1, 2: 4, 3: 9, 4: 16}"
            ]
          },
          "metadata": {},
          "execution_count": 15
        }
      ]
    },
    {
      "cell_type": "code",
      "source": [
        "# 8. nested dictionaries\n",
        "# dictionaries can contain other dictionaries\n",
        "\n",
        "nested_dict = {\n",
        "    'person': {\n",
        "    'name': 'John',\n",
        "    'age' : 30\n",
        "    },\n",
        "    'city': 'new york'\n",
        "}\n",
        "\n",
        "nested_dict"
      ],
      "metadata": {
        "colab": {
          "base_uri": "https://localhost:8080/"
        },
        "id": "uh9aAdxZ7OSQ",
        "outputId": "2e104b67-2dc8-49c0-cc93-027cf8628240"
      },
      "execution_count": null,
      "outputs": [
        {
          "output_type": "execute_result",
          "data": {
            "text/plain": [
              "{'person': {'name': 'John', 'age': 30}, 'city': 'new york'}"
            ]
          },
          "metadata": {},
          "execution_count": 16
        }
      ]
    },
    {
      "cell_type": "code",
      "source": [
        "# accessing the nested dict!!\n",
        "\n",
        "nested_dict = {\n",
        "    'person': {\n",
        "        'name': 'John',\n",
        "        'age': 30\n",
        "    },\n",
        "    'city': 'new york'\n",
        "}\n",
        "\n",
        "# accessing the nested dictionary itself\n",
        "print(nested_dict['person'])\n",
        "print(nested_dict['city'])\n",
        "print()\n",
        "# Access specific keys within the nested dictionary\n",
        "print(nested_dict['person']['name'])\n",
        "print(nested_dict['person']['age'])\n",
        "print()\n",
        "\n",
        "# Access a top-level key in the dictionary\n",
        "print(nested_dict['city'])\n"
      ],
      "metadata": {
        "id": "k0pXibTQ73e5",
        "colab": {
          "base_uri": "https://localhost:8080/"
        },
        "outputId": "299daabf-cfb3-45f4-832e-173a5eccfdcd"
      },
      "execution_count": null,
      "outputs": [
        {
          "output_type": "stream",
          "name": "stdout",
          "text": [
            "{'name': 'John', 'age': 30}\n",
            "new york\n",
            "\n",
            "John\n",
            "30\n",
            "\n",
            "new york\n"
          ]
        }
      ]
    },
    {
      "cell_type": "code",
      "source": [
        "# 9. common methods\n",
        "\n",
        "# keys()   : returns a view object of the keys\n",
        "# values() : returns a view object of the values\n",
        "# items()  : returns a view object of the key-value pairs\n",
        "# get(key) : returns a value for the specified key, or none if the key\n",
        "#            key does not exists\n",
        "\n",
        "# Ex:\n",
        "#   keys   = my_dict.keys()\n",
        "#   values = my_dict.values()\n",
        "#   items  = my_dict.items()\n",
        "#   value  = my_dict.get('email', 'not found') # returns 'not found' if 'email' doesn;t exist\n"
      ],
      "metadata": {
        "id": "NQpGLrLB76J1"
      },
      "execution_count": null,
      "outputs": []
    },
    {
      "cell_type": "code",
      "source": [
        "# 10. merging dictionaries\n",
        "# you can merge two dictionaries using the update() method or the\n",
        "# | operator mostly on (python 3.9+)\n",
        "\n",
        "dict1 = {'a': 1, 'b': 2}\n",
        "dict2 = {'b': 3, 'c': 4}\n",
        "\n",
        "dict1.update(dict2)\n",
        "print(dict1)\n",
        "print()\n",
        "dict3 = dict1 | dict2 # merges and creates a new dictionary\n",
        "dict3\n"
      ],
      "metadata": {
        "colab": {
          "base_uri": "https://localhost:8080/"
        },
        "id": "jfpshd089Z1_",
        "outputId": "b15f410e-5d42-4ea0-e004-48ab1b13d003"
      },
      "execution_count": null,
      "outputs": [
        {
          "output_type": "stream",
          "name": "stdout",
          "text": [
            "{'a': 1, 'b': 3, 'c': 4}\n",
            "\n"
          ]
        },
        {
          "output_type": "execute_result",
          "data": {
            "text/plain": [
              "{'a': 1, 'b': 3, 'c': 4}"
            ]
          },
          "metadata": {},
          "execution_count": 19
        }
      ]
    },
    {
      "cell_type": "code",
      "source": [
        "# 11. Dictionary Views\n",
        "# dictionary view provide a dynamic view of the dict keys, valuesm or\n",
        "# items .They reflect changes in the dict\n",
        "\n",
        "my_dict = {\n",
        "    'name': 'John',\n",
        "    'age' : 30,\n",
        "    'city': 'new york'\n",
        "}\n",
        "\n",
        "my_dict['country'] = 'usa'\n",
        "print(my_dict)"
      ],
      "metadata": {
        "colab": {
          "base_uri": "https://localhost:8080/"
        },
        "id": "FaL7jnIP9iYZ",
        "outputId": "40aef53f-dfb1-446a-dcbd-369b3e72765f"
      },
      "execution_count": null,
      "outputs": [
        {
          "output_type": "stream",
          "name": "stdout",
          "text": [
            "{'name': 'John', 'age': 30, 'city': 'new york', 'country': 'usa'}\n"
          ]
        }
      ]
    },
    {
      "cell_type": "code",
      "source": [
        "# 12. default dictionaries\n",
        "# use collections.defaultdict for dict with default values. This can\n",
        "# simply code that adds to dictionaries\n",
        "\n",
        "from collections import defaultdict\n",
        "\n",
        "dd = defaultdict(int)   # Default value is 0 for integers\n",
        "dd['apple'] += 1\n",
        "dd['banana'] += 2\n",
        "print(dd)"
      ],
      "metadata": {
        "colab": {
          "base_uri": "https://localhost:8080/"
        },
        "id": "cr2Xcfc5_89d",
        "outputId": "7547cad3-d524-4171-ff8f-c0f5bbeabe92"
      },
      "execution_count": null,
      "outputs": [
        {
          "output_type": "stream",
          "name": "stdout",
          "text": [
            "defaultdict(<class 'int'>, {'apple': 1, 'banana': 2})\n"
          ]
        }
      ]
    },
    {
      "cell_type": "code",
      "source": [
        "# 13. Shallow vs. Deep Copy\n",
        "# a shallow copy of a dict creates a new dict object, but the values are still references to the same objects\n",
        "# a deep copy creates a new dict and recursively copies all objects\n",
        "\n",
        "import copy\n",
        "\n",
        "original = {'a': [1, 2, 3]}\n",
        "shallow_copied = copy.copy(original)\n",
        "deep_copied = copy.deepcopy(original)\n",
        "\n",
        "# Modifying the original's list affects the shallow copy but not the\n",
        "# deep copy\n",
        "\n",
        "original['a'].append(4)\n",
        "print(shallow_copied)\n",
        "print()\n",
        "print(deep_copied)"
      ],
      "metadata": {
        "colab": {
          "base_uri": "https://localhost:8080/"
        },
        "id": "Mw1y_T2dC0ax",
        "outputId": "67dde4a4-67ab-4b3d-ede9-df8c119b3642"
      },
      "execution_count": null,
      "outputs": [
        {
          "output_type": "stream",
          "name": "stdout",
          "text": [
            "{'a': [1, 2, 3, 4]}\n",
            "\n",
            "{'a': [1, 2, 3]}\n"
          ]
        }
      ]
    },
    {
      "cell_type": "code",
      "source": [
        "# 14. sorting dict\n",
        "# can sort dictionaries by keys or values\n",
        "\n",
        "# sort by keys\n",
        "sorted_by_keys = dict(sorted(my_dict.items()))\n",
        "\n",
        "# sort by values\n",
        "sorted_by_values = dict(sorted(my_dict.items(), key=lambda item: item[1]))"
      ],
      "metadata": {
        "colab": {
          "base_uri": "https://localhost:8080/",
          "height": 202
        },
        "id": "OAs52cVEFCMf",
        "outputId": "a3b95b2a-b5a3-4755-fcfd-3b7547fa5cd5"
      },
      "execution_count": null,
      "outputs": [
        {
          "output_type": "error",
          "ename": "TypeError",
          "evalue": "'<' not supported between instances of 'int' and 'str'",
          "traceback": [
            "\u001b[0;31m---------------------------------------------------------------------------\u001b[0m",
            "\u001b[0;31mTypeError\u001b[0m                                 Traceback (most recent call last)",
            "\u001b[0;32m<ipython-input-26-99cea67cb331>\u001b[0m in \u001b[0;36m<cell line: 8>\u001b[0;34m()\u001b[0m\n\u001b[1;32m      6\u001b[0m \u001b[0;34m\u001b[0m\u001b[0m\n\u001b[1;32m      7\u001b[0m \u001b[0;31m# sort by values\u001b[0m\u001b[0;34m\u001b[0m\u001b[0;34m\u001b[0m\u001b[0m\n\u001b[0;32m----> 8\u001b[0;31m \u001b[0msorted_by_values\u001b[0m \u001b[0;34m=\u001b[0m \u001b[0mdict\u001b[0m\u001b[0;34m(\u001b[0m\u001b[0msorted\u001b[0m\u001b[0;34m(\u001b[0m\u001b[0mmy_dict\u001b[0m\u001b[0;34m.\u001b[0m\u001b[0mitems\u001b[0m\u001b[0;34m(\u001b[0m\u001b[0;34m)\u001b[0m\u001b[0;34m,\u001b[0m \u001b[0mkey\u001b[0m\u001b[0;34m=\u001b[0m\u001b[0;32mlambda\u001b[0m \u001b[0mitem\u001b[0m\u001b[0;34m:\u001b[0m \u001b[0mitem\u001b[0m\u001b[0;34m[\u001b[0m\u001b[0;36m1\u001b[0m\u001b[0;34m]\u001b[0m\u001b[0;34m)\u001b[0m\u001b[0;34m)\u001b[0m\u001b[0;34m\u001b[0m\u001b[0;34m\u001b[0m\u001b[0m\n\u001b[0m",
            "\u001b[0;31mTypeError\u001b[0m: '<' not supported between instances of 'int' and 'str'"
          ]
        }
      ]
    },
    {
      "cell_type": "code",
      "source": [
        "# 16. combining dict with list of tuples\n",
        "# can create a dict from a list of tuples where each tuple represents a\n",
        "# key value pair\n",
        "\n",
        "pairs = [('a', 1), ('b', 2), ('c', 3)]\n",
        "new_dict = dict(pairs)\n",
        "print(new_dict)"
      ],
      "metadata": {
        "colab": {
          "base_uri": "https://localhost:8080/"
        },
        "id": "u7izTjQAFpfJ",
        "outputId": "c1df248e-6cdb-4b55-c297-f637de3e44a7"
      },
      "execution_count": null,
      "outputs": [
        {
          "output_type": "stream",
          "name": "stdout",
          "text": [
            "{'a': 1, 'b': 2, 'c': 3}\n"
          ]
        }
      ]
    },
    {
      "cell_type": "code",
      "source": [
        "# 17. nested data structures\n",
        "# you can use dictionaries in combination with lists or sets for more\n",
        "# complex data structures\n",
        "\n",
        "student = {\n",
        "    'student1': {'name': 'john', 'grades': [90, 85, 88]},\n",
        "    'student2': {'name': 'jane', 'grades': [92, 80, 84]}\n",
        "}\n",
        "\n",
        "# accessing nested data\n",
        "print(student['student1']['grades'][0])"
      ],
      "metadata": {
        "id": "82OuJbDsGTXi"
      },
      "execution_count": null,
      "outputs": []
    },
    {
      "cell_type": "code",
      "source": [],
      "metadata": {
        "id": "4r2pxsf-HEpB"
      },
      "execution_count": null,
      "outputs": []
    },
    {
      "cell_type": "code",
      "source": [],
      "metadata": {
        "id": "MewCUJQeHQHm"
      },
      "execution_count": null,
      "outputs": []
    },
    {
      "cell_type": "markdown",
      "source": [
        "Problems"
      ],
      "metadata": {
        "id": "uTY3ir74HQbT"
      }
    },
    {
      "cell_type": "code",
      "source": [
        "# 1. Count Word Frequency, each character\n",
        "\n",
        "sentence = \"This is a sample sentence. This sentence is a simple example for counting word frequency.\"\n",
        "word_count = {}\n",
        "\n",
        "#words = sentence.replace('.', '').split()\n",
        "\n",
        "for word in sentence:\n",
        "  if word in word_count:\n",
        "    word_count[word] += 1\n",
        "  else:\n",
        "    word_count[word] = 1\n",
        "print(word_count)"
      ],
      "metadata": {
        "id": "Df39n0KpHRyo",
        "colab": {
          "base_uri": "https://localhost:8080/"
        },
        "outputId": "e341056c-bd4d-4e9a-ebd8-346042179bc2"
      },
      "execution_count": null,
      "outputs": [
        {
          "output_type": "stream",
          "name": "stdout",
          "text": [
            "{'T': 2, 'h': 2, 'i': 6, 's': 8, ' ': 14, 'a': 4, 'm': 3, 'p': 3, 'l': 3, 'e': 12, 'n': 7, 't': 3, 'c': 4, '.': 2, 'x': 1, 'f': 2, 'o': 3, 'r': 3, 'u': 2, 'g': 1, 'w': 1, 'd': 1, 'q': 1, 'y': 1}\n"
          ]
        }
      ]
    },
    {
      "cell_type": "code",
      "source": [
        "# 1. Count Word Frequency, each word\n",
        "\n",
        "sentence = \"This is a sample sentence. This sentence is a simple example for counting word frequency.\"\n",
        "word_count = {}\n",
        "\n",
        "words = sentence.lower().replace('.', '').split()\n",
        "\n",
        "for word in words:\n",
        "  if word in word_count:\n",
        "    word_count[word] += 1\n",
        "  else:\n",
        "    word_count[word] = 1\n",
        "print(word_count)"
      ],
      "metadata": {
        "colab": {
          "base_uri": "https://localhost:8080/"
        },
        "id": "fId9RRK7ePa0",
        "outputId": "82b6bdc2-e4c5-4796-99dd-2f70e2ccff13"
      },
      "execution_count": null,
      "outputs": [
        {
          "output_type": "stream",
          "name": "stdout",
          "text": [
            "{'this': 2, 'is': 2, 'a': 2, 'sample': 1, 'sentence': 2, 'simple': 1, 'example': 1, 'for': 1, 'counting': 1, 'word': 1, 'frequency': 1}\n"
          ]
        }
      ]
    },
    {
      "cell_type": "code",
      "source": [
        "# 2. Student Database\n",
        "# need to try later!\n",
        "\n",
        "students = {\n",
        "    'student1': {'name': 'John Doe', 'age': 20, 'grades': [85, 90, 92]},\n",
        "    'student2': {'name': 'Jane Smith', 'age': 22, 'grades': [88, 76, 95]},\n",
        "    'student3': {'name': 'Emily Johnson', 'age': 19, 'grades': [78, 82, 80]},\n",
        "}\n",
        "\n",
        "# Add a new student\n",
        "def add_student(students, student_id, name, age, grades):\n",
        "    students[student_id] = {'name': name, 'age': age, 'grades': grades}\n",
        "\n",
        "# Remove a student\n",
        "def remove_student(students, student_id):\n",
        "    if student_id in students:\n",
        "        del students[student_id]\n",
        "    else:\n",
        "        print(\"Student ID not found.\")\n",
        "\n",
        "# Update an existing student's information\n",
        "def update_student(students, student_id, name=None, age=None, grades=None):\n",
        "    if student_id in students:\n",
        "        if name:\n",
        "            students[student_id]['name'] = name\n",
        "        if age:\n",
        "            students[student_id]['age'] = age\n",
        "        if grades:\n",
        "            students[student_id]['grades'] = grades\n",
        "    else:\n",
        "        print(\"Student ID not found.\")\n",
        "\n",
        "# Example usage\n",
        "add_student(students, 'student4', 'Mark Wilson', 21, [90, 85, 87])\n",
        "remove_student(students, 'student2')\n",
        "update_student(students, 'student3', age=20)\n",
        "\n",
        "print(students)\n",
        "\n",
        "\n",
        "\n"
      ],
      "metadata": {
        "id": "0RsFanf2Hekk",
        "colab": {
          "base_uri": "https://localhost:8080/"
        },
        "outputId": "b34cd259-e215-4837-fadd-c9811737deab"
      },
      "execution_count": null,
      "outputs": [
        {
          "output_type": "stream",
          "name": "stdout",
          "text": [
            "{'student1': {'name': 'John Doe', 'age': 20, 'grades': [85, 90, 92]}, 'student3': {'name': 'Emily Johnson', 'age': 20, 'grades': [78, 82, 80]}, 'student4': {'name': 'Mark Wilson', 'age': 21, 'grades': [90, 85, 87]}}\n"
          ]
        }
      ]
    },
    {
      "cell_type": "code",
      "source": [
        "# 3. Inventory System\n",
        "# try later!\n",
        "\n",
        "inventory = {\n",
        "    'item1': {'name': 'Apple', 'quantity': 50, 'price': 0.5, 'description': 'Fresh green apples'},\n",
        "    'item2': {'name': 'Banana', 'quantity': 30, 'price': 0.25, 'description': 'Ripe bananas'},\n",
        "    'item3': {'name': 'Orange', 'quantity': 20, 'price': 0.75, 'description': 'Sweet oranges'},\n",
        "}\n",
        "\n",
        "# Add a new item\n",
        "def add_item(inventory, item_id, name, quantity, price, description):\n",
        "    inventory[item_id] = {'name': name, 'quantity': quantity, 'price': price, 'description': description}\n",
        "\n",
        "# Remove an item\n",
        "def remove_item(inventory, item_id):\n",
        "    if item_id in inventory:\n",
        "        del inventory[item_id]\n",
        "    else:\n",
        "        print(\"Item ID not found.\")\n",
        "\n",
        "# Update an existing item's information\n",
        "def update_item(inventory, item_id, quantity=None, price=None, description=None):\n",
        "    if item_id in inventory:\n",
        "        if quantity is not None:\n",
        "            inventory[item_id]['quantity'] = quantity\n",
        "        if price is not None:\n",
        "            inventory[item_id]['price'] = price\n",
        "        if description is not None:\n",
        "            inventory[item_id]['description'] = description\n",
        "    else:\n",
        "        print(\"Item ID not found.\")\n",
        "\n",
        "# Example usage\n",
        "add_item(inventory, 'item4', 'Grapes', 40, 1.5, 'Seedless grapes')\n",
        "remove_item(inventory, 'item2')\n",
        "update_item(inventory, 'item3', price=0.8, description='Juicy sweet oranges')\n",
        "\n",
        "print(inventory)\n",
        "\n"
      ],
      "metadata": {
        "id": "x7mCD2uOHiba"
      },
      "execution_count": null,
      "outputs": []
    }
  ]
}